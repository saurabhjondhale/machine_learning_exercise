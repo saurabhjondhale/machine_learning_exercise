{
 "cells": [
  {
   "cell_type": "markdown",
   "metadata": {
    "id": "mXTgdKoCzzVi"
   },
   "source": [
    "# Assignment 10: PyTorch Neural Networks\n",
    "\n",
    "## Team Information\n",
    "List your team members (name and immatriculation number) and indicate whether you are a B.Sc. Data Science or other group in the following cell:\n",
    "* *names*\n",
    "* *matr. nr.*\n",
    "* *study program*\n",
    "* *B.Sc./M.Sc.*\n",
    "\n",
    "*(double click here to edit)*  \n"
   ]
  },
  {
   "cell_type": "markdown",
   "metadata": {
    "id": "1aoPBnshRJ_A"
   },
   "source": [
    "## Task 0: Basic Tensor Operations (5 Points)\n"
   ]
  },
  {
   "cell_type": "code",
   "execution_count": null,
   "metadata": {
    "colab": {
     "base_uri": "https://localhost:8080/"
    },
    "id": "IdGdp5Sh5T7T",
    "outputId": "308d7a23-086a-43d4-810e-8ee73fcc4872"
   },
   "outputs": [],
   "source": [
    "import torch\n",
    "\n",
    "# Example tensor operations\n",
    "# Tensor creation\n",
    "tensor_a = torch.tensor([[1, 2], [3, 4]])\n",
    "tensor_b = torch.tensor([[5, 6], [7, 8]])\n",
    "\n",
    "# Q0.1: Perform element-wise operations: +, -, *, and / (4 points)\n",
    "tensor_add = \n",
    "tensor_sub = \n",
    "tensor_mul = \n",
    "tensor_div = \n",
    "\n",
    "print(\"Tensor Addition:\\n\", tensor_add)\n",
    "print(\"Tensor Subtraction:\\n\", tensor_sub)\n",
    "print(\"Tensor Multiplication:\\n\", tensor_mul)\n",
    "print(\"Tensor Division:\\n\", tensor_div)\n",
    "\n",
    "# Q0.2: perform matrix multiplication for tensor_a and tensor_b (1 point)\n",
    "tensor_matmul = \n",
    "print(\"Matrix Multiplication:\\n\", tensor_matmul)\n",
    "\n",
    "# Tensor slicing\n",
    "tensor_c = torch.arange(9).reshape(3, 3)\n",
    "print(\"Original Tensor:\\n\", tensor_c)\n",
    "print(\"Sliced Tensor (first row):\\n\", tensor_c[0])\n",
    "print(\"Sliced Tensor (last column):\\n\", tensor_c[:, -1])\n"
   ]
  },
  {
   "cell_type": "markdown",
   "metadata": {
    "id": "YsogfZ2fz4tE"
   },
   "source": [
    "## Task 1: Linear Regression with SGD in PyTorch (20 Points)\n",
    "\n",
    "\n",
    " * In this first task, you will implement a linear regression model in PyTorch without using the existing [`torch.nn.Linear`](https://pytorch.org/docs/master/generated/torch.nn.Linear.html) module. Instead use basic math operations such as addition and matrix multiplication for the computation of the forward pass. The computation of gradients and performing backpropagation will be automatically handled by PyTorch.\n",
    "\n",
    "* Initialize the weights and bias of the linear model using the standard Gaussian distribution. The `bias` parameter selects whether a bias term should be included in the model.\n",
    "\n",
    "*Hint:* To allow training of the network, the weights of the model have to be made trainable. A convenient way to do this is to instantiate the learnable parameters as [`torch.nn.Parameter`](https://pytorch.org/docs/master/generated/torch.nn.parameter.Parameter.html) objects and set them as fields of a [`torch.nn.Module`](https://pytorch.org/docs/master/generated/torch.nn.Module.html) subclass.\n"
   ]
  },
  {
   "cell_type": "code",
   "execution_count": null,
   "metadata": {
    "id": "cpu-6Zbxz5bT"
   },
   "outputs": [],
   "source": [
    "import torch.nn as nn\n",
    "import torch.optim as optim\n",
    "import torch.utils.data as data\n",
    "import torch.nn.functional as F\n",
    "import numpy as np\n",
    "from sklearn.datasets import load_diabetes\n",
    "from sklearn.model_selection import train_test_split\n",
    "from sklearn.preprocessing import StandardScaler\n",
    "\n",
    "class MyLinear(nn.Module):\n",
    "    def __init__(self, in_features, out_features, bias=True):\n",
    "        super().__init__()\n",
    "\n",
    "        self.in_features = in_features\n",
    "        self.out_features = out_features\n",
    "        self.bias = bias\n",
    "\n",
    "\n",
    "        # Solution\n",
    "        # Initialization code\n",
    "        \n",
    "\n",
    "    def forward(self, X):\n",
    "        # Solution\n",
    "        return None\n",
    "\n",
    "\n",
    "# Function to load the Diabetes dataset from sklearn.datasets\n",
    "def load_diabetes_dataset():\n",
    "    data = load_diabetes()\n",
    "    X, y = data.data, data.target\n",
    "    # Preprocess or normalize the data if necessary\n",
    "    scaler_X = StandardScaler().fit(X)\n",
    "    scaler_y = StandardScaler().fit(y.reshape(-1, 1))\n",
    "    X = scaler_X.transform(X)\n",
    "    y = scaler_y.transform(y.reshape(-1, 1))\n",
    "    # Split into train and test sets\n",
    "    X_train, X_test, y_train, y_test = train_test_split(X, y, test_size=0.3, random_state=2021)\n",
    "    return X_train, X_test, y_train, y_test\n",
    "\n",
    "\n",
    "\n",
    "class BasicDataset(data.Dataset):\n",
    "    def __init__(self, X, y):\n",
    "        self.X = X\n",
    "        self.y = y\n",
    "\n",
    "    def __getitem__(self, idx):\n",
    "        return dict(X=self.X[idx], y=self.y[idx])\n",
    "\n",
    "    def __len__(self):\n",
    "        return len(self.X)\n",
    "\n",
    "# Define hyperparameters\n",
    "batch_size = 64\n",
    "learning_rate = 0.01\n",
    "epochs = 25\n",
    "in_features = 10  # Adjust based on dataset features\n",
    "out_features = 1  # Adjust based on dataset target\n",
    "\n",
    "# Initialize models\n",
    "my_linear = MyLinear(in_features, out_features, bias=False)\n",
    "pt_linear = nn.Linear(in_features, out_features)\n",
    "\n",
    "# Load dataset (Replace with appropriate dataset loading function)\n",
    "X_train, X_test, y_train, y_test = load_diabetes_dataset()\n",
    "dataset_train = BasicDataset(X_train, y_train)\n",
    "\n",
    "\n"
   ]
  },
  {
   "cell_type": "markdown",
   "metadata": {
    "id": "5Q39oiitSi9B"
   },
   "source": [
    "## Complete the following code to train your model"
   ]
  },
  {
   "cell_type": "code",
   "execution_count": null,
   "metadata": {
    "colab": {
     "base_uri": "https://localhost:8080/"
    },
    "id": "KuVAPKNaSmVy",
    "outputId": "5b35f72c-399e-4b9a-f5fd-e1369c6a9bc2"
   },
   "outputs": [],
   "source": [
    "# Training function\n",
    "def train_model(model, dataset, learning_rate, batch_size, epochs):\n",
    "    optimizer = optim.SGD(model.parameters(), lr=learning_rate)\n",
    "\n",
    "    for epoch in range(epochs):\n",
    "        data_loader = data.DataLoader(dataset=dataset, batch_size=batch_size, shuffle=True)\n",
    "        epoch_loss = 0.0\n",
    "\n",
    "        for batch in data_loader:\n",
    "            model.zero_grad()\n",
    "\n",
    "            # Solution\n",
    "\n",
    "            # Compute the forward pass.\n",
    "            \n",
    "            # Compute the batch error.\n",
    "            \n",
    "\n",
    "            # Backpropagate the gradient and adjust the weights.\n",
    "            \n",
    "\n",
    "        print(f'Epoch {epoch+1}/{epochs} - Loss: {epoch_loss}')\n",
    "\n",
    "# Evaluation function\n",
    "def evaluate_model(model, X_test, y_test):\n",
    "    X_test_tensor = torch.from_numpy(X_test).float()\n",
    "    y_test_tensor = torch.from_numpy(y_test).float()\n",
    "    yhat = model.forward(X_test_tensor).detach().numpy()\n",
    "    mse = np.mean(np.power(yhat - y_test, 2))\n",
    "    print('Test MSE:', mse)\n",
    "\n",
    "print('MyLinear')\n",
    "train_model(my_linear, dataset_train, learning_rate, batch_size, epochs)\n",
    "evaluate_model(my_linear, X_test, y_test)\n",
    "print()\n",
    "print('torch.nn.Linear')\n",
    "train_model(pt_linear, dataset_train, learning_rate, batch_size, epochs)\n",
    "evaluate_model(pt_linear, X_test, y_test)\n",
    "print()\n",
    "print('sklearn.linear_model.LinearRegression')\n",
    "from sklearn.linear_model import LinearRegression\n",
    "print('Test MSE:', np.mean(np.power(LinearRegression().fit(X_train, y_train).predict(X_test) - y_test, 2)))"
   ]
  },
  {
   "cell_type": "markdown",
   "metadata": {
    "id": "E758E8Owz8HJ"
   },
   "source": [
    "## Task 2: Image Classification with FNN (35 Points)\n",
    "\n",
    "In this task, you will implement an FNN for multi-class classification of handwritten digits.\n",
    "\n",
    "Load the [Digits dataset](https://scikit-learn.org/stable/modules/generated/sklearn.datasets.load_digits.html). Each image in the dataset is 8x8 pixels and has 10 possible classes (digits 0-9).\n",
    "\n",
    "Implement a feedforward neural network with multiple layers using either [`nn.Sequential`](https://pytorch.org/docs/master/generated/torch.nn.Sequential.html) class or by subclassing [`nn.Module`](https://pytorch.org/docs/master/generated/torch.nn.Module.html). Use a combination of [`nn.Linear`](https://pytorch.org/docs/master/generated/torch.nn.Linear.html) and activation functions (e.g. [`nn.ReLU`](https://pytorch.org/docs/master/generated/torch.nn.ReLU.html)) to implement the fully connected layers of an FNN. Experiment with different activation functions (ReLU, tanh, ...), different depths, and widths. Use the Adam optimizer ([`optim.Adam`](https://pytorch.org/docs/stable/optim.html#torch.optim.Adam)) for optimization.\n",
    "\n",
    "You should evaluate your model by at least computing the relevant metrics (e.g. F1-score) and looking at a few misclassified samples.\n",
    "\n",
    "*Note:* You may modify the code from Task 1. However, you need to use an appropriate loss function and output layer for your FNN to train your network for multi-class classification.\n"
   ]
  },
  {
   "cell_type": "code",
   "execution_count": null,
   "metadata": {
    "colab": {
     "base_uri": "https://localhost:8080/",
     "height": 791
    },
    "id": "jUUJDeGmz-g7",
    "outputId": "0274cb59-2bc7-4d7b-f4e7-55e6c2149400"
   },
   "outputs": [],
   "source": [
    "from sklearn.datasets import load_digits\n",
    "from sklearn.model_selection import train_test_split\n",
    "from sklearn.preprocessing import StandardScaler\n",
    "import numpy as np\n",
    "import sklearn\n",
    "import matplotlib.pyplot as plt\n",
    "\n",
    "\n",
    "\n",
    "def load_digits_dataset():\n",
    "    data = load_digits()\n",
    "    X, y = data.images, data.target\n",
    "    X = X.reshape(X.shape[0], -1)  # Flatten images\n",
    "    X_train, X_test, y_train, y_test = train_test_split(X, y, test_size=0.3, random_state=2021)\n",
    "\n",
    "    scaler = StandardScaler().fit(X_train)\n",
    "    X_train = scaler.transform(X_train)\n",
    "    X_test = scaler.transform(X_test)\n",
    "\n",
    "    return X_train, X_test, y_train, y_test\n",
    "\n",
    "class FlattenedImageDataset(data.Dataset):\n",
    "    def __init__(self, X, y):\n",
    "        self.X = X\n",
    "        self.y = y\n",
    "\n",
    "    def __getitem__(self, idx):\n",
    "        return dict(X=self.X[idx], y=self.y[idx])\n",
    "\n",
    "    def __len__(self):\n",
    "        return self.X.shape[0]\n",
    "\n",
    "X_train, X_test, y_train, y_test = load_digits_dataset()\n",
    "print('Training samples:', X_train.shape[0])\n",
    "print('Testing samples:', X_test.shape[0])\n",
    "print('Image shape:', X_train[0].shape)\n",
    "print('#Classes:', len(np.unique(y_train)))\n",
    "\n",
    "# Implement your model and training here.\n",
    "# Solution\n",
    "fnn = \n",
    "\n",
    "def train_image_classifier(model, dataset, learning_rate, batch_size, epochs, device):\n",
    "    \n",
    "\n",
    "# Implement your evaluation here:\n",
    "# Solution\n",
    "def evaluate_image_classifier(model, X_test, y_test, device):\n",
    "    \n",
    "\n",
    "# Define hyperparameters\n",
    "batch_size = 64\n",
    "learning_rate = 0.001\n",
    "epochs = 100\n",
    "\n",
    "# Prepare dataset\n",
    "dataset_train = FlattenedImageDataset(X_train, y_train)\n",
    "\n",
    "# Train and evaluate model\n",
    "train_image_classifier(fnn, dataset_train, learning_rate, batch_size, epochs, device)\n",
    "evaluate_image_classifier(fnn, X_test, y_test, device)\n"
   ]
  }
 ],
 "metadata": {
  "accelerator": "GPU",
  "colab": {
   "gpuType": "T4",
   "provenance": []
  },
  "kernelspec": {
   "display_name": "Python 3 (ipykernel)",
   "language": "python",
   "name": "python3"
  },
  "language_info": {
   "codemirror_mode": {
    "name": "ipython",
    "version": 3
   },
   "file_extension": ".py",
   "mimetype": "text/x-python",
   "name": "python",
   "nbconvert_exporter": "python",
   "pygments_lexer": "ipython3",
   "version": "3.10.12"
  }
 },
 "nbformat": 4,
 "nbformat_minor": 4
}
