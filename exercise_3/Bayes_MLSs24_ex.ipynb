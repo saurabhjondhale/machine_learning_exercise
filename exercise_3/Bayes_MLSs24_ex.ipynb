{
 "cells": [
  {
   "cell_type": "markdown",
   "metadata": {
    "id": "n522SK5vdOl_"
   },
   "source": [
    "##Introduction:\n",
    " In this exercise, you're not on the field kicking the ball, but rather analyzing the game's statistics to uncover hidden insights. Your mission is to estimate the proportion of goals scored by a team in a series of matches using Bayesian inference. Imagine you're a football analyst trying to understand how effective a team is at scoring goals. To do this, you'll use a unique approach—analyzing a sequence of matches and recording whether the team scores a goal or not.\n",
    "\n",
    "##Objective:\n",
    "Your goal is to develop a Bayesian updating function to estimate the proportion of goals scored by a football team based on the sequence of matches played. Additionally, you'll create a visualization to track how the Bayesian model refines its estimate as more matches are analyzed.\n",
    "\n"
   ]
  },
  {
   "cell_type": "markdown",
   "metadata": {
    "id": "0nb4n6smdXNV"
   },
   "source": [
    "##Step 1: Initial Belief (5 points)\n",
    "Begin by setting up your initial belief about the proportion of goals scored by the team. Think of this as your starting assumption before any matches are analyzed. We'll represent this belief as a uniform distribution ranging from 0 to 1."
   ]
  },
  {
   "cell_type": "code",
   "execution_count": 9,
   "metadata": {
    "id": "vLIAOxzcdWDg"
   },
   "outputs": [],
   "source": [
    "# Step 1: Initialize the prior belief\n",
    "\n",
    "import numpy as np\n",
    "\n",
    "# Create an array of 1000 evenly spaced values between 0 and 1\n",
    "goal_proportions = np.linspace(0,1,1000)\n",
    "\n",
    "# Prior belief: Initially, all proportions are equally like\n",
    "prior_belief = np.ones_like(goal_proportions) / 1000.0\n"
   ]
  },
  {
   "cell_type": "markdown",
   "metadata": {
    "id": "oNTBa6GzdvIp"
   },
   "source": [
    "##Step 2: Likelihood Function (5 points)\n",
    "Define a function to calculate the likelihood of observing a particular outcome (goal or no goal) given a certain proportion of goals scored by the team. This function will help update your beliefs based on new match data."
   ]
  },
  {
   "cell_type": "code",
   "execution_count": 2,
   "metadata": {
    "id": "jzyBI7rLdBit"
   },
   "outputs": [],
   "source": [
    "# Step 2: Create the likelihood function\n",
    "\n",
    "def likelihood(goal_proportions, outcome):\n",
    "    return goal_proportions if outcome else 1.0 - goal_proportions"
   ]
  },
  {
   "cell_type": "markdown",
   "metadata": {
    "id": "Niy9QYH5d2B7"
   },
   "source": [
    "##Step 3: Bayesian Update(10 points)\n",
    "Create a function called bayesian_update to perform the Bayesian update. This function will update your prior beliefs using the likelihood of the observed outcomes and normalize the resulting distribution."
   ]
  },
  {
   "cell_type": "code",
   "execution_count": 3,
   "metadata": {
    "id": "zLJo0oTCdyg6"
   },
   "outputs": [],
   "source": [
    "# Step 3: Create the bayesian_update function\n",
    "\n",
    "def bayesian_update(prior_belief, goal_proportions, outcome):\n",
    "    unnormalized_posterior = prior_belief * likelihood(goal_proportions, outcome)\n",
    "    return unnormalized_posterior / np.sum(unnormalized_posterior)"
   ]
  },
  {
   "cell_type": "markdown",
   "metadata": {
    "id": "gKiARcV4eI2d"
   },
   "source": [
    "##Step 4: Analyze Match Data (10 points)\n",
    "Analyze a series of football matches to gather data. Assume a known true proportion of goals scored by the team (let's say 0.6) and generate 10 match outcomes."
   ]
  },
  {
   "cell_type": "code",
   "execution_count": 16,
   "metadata": {
    "id": "56VzQ7_7eMEV"
   },
   "outputs": [
    {
     "name": "stdout",
     "output_type": "stream",
     "text": [
      "[0. 1. 1. 1. 1. 1. 1. 1. 1. 1. 1. 1. 1. 0. 1. 1. 1. 1. 1. 1. 0. 0. 0. 1.\n",
      " 1. 0. 1. 1. 1. 1. 0. 1. 1. 1. 1. 1. 1. 1. 0. 0. 1. 0. 1. 1. 1. 0. 1. 0.\n",
      " 1. 0. 0. 1. 0. 1. 0. 0. 1. 1. 1. 0. 1. 1. 1. 1. 1. 1. 1. 1. 1. 1. 1. 1.\n",
      " 1. 1. 0. 1. 0. 1. 1. 1. 0. 1. 1. 0. 0. 1. 1. 1. 1. 1. 1. 1. 1. 0. 1. 0.\n",
      " 1. 1. 1. 0.]\n"
     ]
    }
   ],
   "source": [
    "# Step 4: Analyze football matches\n",
    "\n",
    "true_goal_proportion = 0.7\n",
    "match_outcomes =  np.random.binomial(1, true_goal_proportion, size=100).astype(np.float64)\n",
    "print(match_outcomes)\n"
   ]
  },
  {
   "cell_type": "markdown",
   "metadata": {
    "id": "Qgb2CULeeQjA"
   },
   "source": [
    "##Step 5: Update and Visualize (15 points)\n",
    "Iteratively update your prior belief using the Bayesian update function after each match. Then, visualize how the Bayesian model refines its estimate as more match data is collected."
   ]
  },
  {
   "cell_type": "code",
   "execution_count": 27,
   "metadata": {
    "id": "NBm0bBcOeUIP"
   },
   "outputs": [
    {
     "ename": "NameError",
     "evalue": "name 'bayesian_update' is not defined",
     "output_type": "error",
     "traceback": [
      "\u001b[0;31m---------------------------------------------------------------------------\u001b[0m",
      "\u001b[0;31mNameError\u001b[0m                                 Traceback (most recent call last)",
      "Cell \u001b[0;32mIn[27], line 6\u001b[0m\n\u001b[1;32m      3\u001b[0m posteriors \u001b[38;5;241m=\u001b[39m []\n\u001b[1;32m      5\u001b[0m \u001b[38;5;28;01mfor\u001b[39;00m outcome \u001b[38;5;129;01min\u001b[39;00m match_outcomes:\n\u001b[0;32m----> 6\u001b[0m     prior_belief \u001b[38;5;241m=\u001b[39m \u001b[43mbayesian_update\u001b[49m(prior_belief, goal_proportions, outcome)\n\u001b[1;32m      7\u001b[0m     posteriors\u001b[38;5;241m.\u001b[39mappend(prior_belief)\n\u001b[1;32m      9\u001b[0m \u001b[38;5;66;03m# Next Step: Visualize the analysis\u001b[39;00m\n",
      "\u001b[0;31mNameError\u001b[0m: name 'bayesian_update' is not defined"
     ]
    }
   ],
   "source": [
    "# Step 5: Update prior belief iteratively and store posterior distributions\n",
    "\n",
    "posteriors = []\n",
    "\n",
    "for outcome in match_outcomes:\n",
    "    prior_belief = bayesian_update(prior_belief, goal_proportions, outcome)\n",
    "    posteriors.append(prior_belief)\n",
    "\n",
    "# Next Step: Visualize the analysis\n",
    "\n",
    "import matplotlib.pyplot as plt\n",
    "\n",
    "plt.figure(figsize=(10, 6))\n",
    "plt.plot(goal_proportions, posteriors[0], label='Initial Belief', linestyle='--')\n",
    "# plt.plot(goal_proportions, posteriors[-1], label=f'Posterior after {i+1} match', alpha=0.7)\n",
    "\n",
    "for i, posterior in enumerate(posteriors):\n",
    "    plt.plot(goal_proportions, posterior, label=f'Posterior after {i+1} match', alpha=0.7)\n",
    "\n",
    "plt.xlabel('Proportion of Goals Scored')\n",
    "plt.ylabel('Probability Density')\n",
    "plt.title('Bayesian Analysis: Estimating Proportion of Goals Scored by a Football Team')\n",
    "plt.legend()\n",
    "plt.grid(True)\n",
    "plt.show()\n"
   ]
  },
  {
   "cell_type": "code",
   "execution_count": null,
   "metadata": {},
   "outputs": [],
   "source": []
  },
  {
   "cell_type": "code",
   "execution_count": null,
   "metadata": {},
   "outputs": [],
   "source": []
  },
  {
   "cell_type": "code",
   "execution_count": null,
   "metadata": {},
   "outputs": [],
   "source": []
  },
  {
   "cell_type": "code",
   "execution_count": null,
   "metadata": {},
   "outputs": [],
   "source": []
  },
  {
   "cell_type": "code",
   "execution_count": null,
   "metadata": {},
   "outputs": [],
   "source": []
  },
  {
   "cell_type": "code",
   "execution_count": null,
   "metadata": {},
   "outputs": [],
   "source": []
  }
 ],
 "metadata": {
  "colab": {
   "provenance": []
  },
  "kernelspec": {
   "display_name": "Python 3 (ipykernel)",
   "language": "python",
   "name": "python3"
  },
  "language_info": {
   "codemirror_mode": {
    "name": "ipython",
    "version": 3
   },
   "file_extension": ".py",
   "mimetype": "text/x-python",
   "name": "python",
   "nbconvert_exporter": "python",
   "pygments_lexer": "ipython3",
   "version": "3.10.12"
  }
 },
 "nbformat": 4,
 "nbformat_minor": 4
}
